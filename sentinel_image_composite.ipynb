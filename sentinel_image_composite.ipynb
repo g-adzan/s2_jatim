{
 "cells": [
  {
   "cell_type": "markdown",
   "source": [
    "# Sentinel-2 image composite\r\n",
    "Gemasakti Adzan\r\n",
    "\r\n",
    "2021-09-23"
   ],
   "metadata": {}
  },
  {
   "cell_type": "code",
   "execution_count": null,
   "source": [
    "# packages\r\n",
    "import ee \r\n",
    "import geopandas as gpd\r\n",
    "# import geemap\r\n",
    "import ipyleaflet\r\n",
    "from ipywidgets import fixed, interact, interact_manual, widgets\r\n",
    "from IPython.display import display, clear_output\r\n",
    "from datetime import datetime\r\n",
    "import math"
   ],
   "outputs": [],
   "metadata": {}
  },
  {
   "cell_type": "code",
   "execution_count": null,
   "source": [
    "ee.Authenticate()"
   ],
   "outputs": [],
   "metadata": {}
  },
  {
   "cell_type": "code",
   "execution_count": null,
   "source": [
    "ee.Initialize()"
   ],
   "outputs": [],
   "metadata": {}
  },
  {
   "cell_type": "code",
   "execution_count": null,
   "source": [
    "# Local data\r\n",
    "adm2_loc = gpd.read_file('./data/adm2.shp')\r\n",
    "adm2_list = adm2_loc['ADM2_EN'].tolist()\r\n",
    "\r\n",
    "# GEE assets and data\r\n",
    "adm1 = ee.FeatureCollection('projects/ee-jatim/assets/adm1') # batas provinsi Jawa Timur\r\n",
    "adm2 = ee.FeatureCollection('projects/ee-jatim/assets/adm2') # batas kabupaten/kota di Jawa Timur\r\n",
    "s2_coll = ee.ImageCollection('COPERNICUS/S2')"
   ],
   "outputs": [],
   "metadata": {}
  },
  {
   "cell_type": "code",
   "execution_count": null,
   "source": [
    "# create some widgets\r\n",
    "startDate_widget = widgets.DatePicker(description = 'Pick a Start Date', disable = False)\r\n",
    "endDate_widget = widgets.DatePicker(description = 'Pick an End Date', disable = False)\r\n",
    "region_widget = widgets.Dropdown(options = adm2_list, value = None, description = \"Pick a kabupaten/kota\", disabled = False)\r\n",
    "exp_widget = widgets.Checkbox(value = False, description = 'Check to export image to Google Drive', disabled = False, indent = False)\r\n",
    "folderExp_widget = widgets.Text(placeholder = 'Write folder name in Google Drive to save image', description = 'Folder name')"
   ],
   "outputs": [],
   "metadata": {}
  },
  {
   "cell_type": "code",
   "execution_count": null,
   "source": [
    "# functions\r\n",
    "# get sentinel data\r\n",
    "def importData(region,startDate,endDate):\r\n",
    "\r\n",
    "    startDate = startDate_widget.value.strftime('%Y') + \"-\" + startDate_widget.value.strftime('%m') + \"-\" + startDate_widget.value.strftime('%d')\r\n",
    "    endDate = endDate_widget.value.strftime('%Y') + \"-\" + endDate_widget.value.strftime('%m') + \"-\" + endDate_widget.value.strftime('%d')\r\n",
    "    region = adm2.filter(ee.Filter.eq('ADM2_EN',region_widget.value))\r\n",
    "\r\n",
    "    s2 = s2_coll.filterDate(startDate,endDate).filterBounds(region)\r\n",
    "\r\n",
    "    return s2\r\n",
    "\r\n",
    "def QAMaskCloud(collection):\r\n",
    "    \r\n",
    "    def maskClouds(image):\r\n",
    "        qa = image.select('QA60').int16()\r\n",
    "        cloudBitMask = math.pow(2, 10)\r\n",
    "        cirrusBitMask = math.pow(2, 11)\r\n",
    "        mask = qa.bitwiseAnd(cloudBitMask).eq(0).And(qa.bitwiseAnd(cirrusBitMask).eq(0))\r\n",
    "        return image.updateMask(mask)\r\n",
    "    \r\n",
    "    collection = collection.map(maskClouds)\r\n",
    "    \r\n",
    "    return collection\r\n",
    "\r\n",
    "# if using ipyleaflet\r\n",
    "def GetTileLayerUrl(ee_image_object):\r\n",
    "  map_id = ee.Image(ee_image_object).getMapId()\r\n",
    "  tile_fetcher = map_id['tile_fetcher']\r\n",
    "  return tile_fetcher.url_format"
   ],
   "outputs": [],
   "metadata": {}
  },
  {
   "cell_type": "code",
   "execution_count": null,
   "source": [
    "# Example using ipyleaflet\r\n",
    "n = ipyleaflet.Map(center = (-7.27, 112.74), zoom = 10, scroll_wheel_zoom = True)\r\n",
    "layer_control = ipyleaflet.LayersControl(position = 'topright')\r\n",
    "n.add_control(layer_control)\r\n",
    "\r\n",
    "\r\n",
    "def showMap(region,startDate,endDate,expTrigger,folderName):\r\n",
    "    s2_image = importData(region, startDate, endDate)\r\n",
    "    s2_image = QAMaskCloud(s2_image)\r\n",
    "    s2_image = s2_image.median().clip(adm2.filter(ee.Filter.eq('ADM2_EN',region)))\r\n",
    "    n.add_layer(ipyleaflet.TileLayer(url = GetTileLayerUrl(s2_image.visualize(min = 40, max = 4000, gamma = 1.1, bands = ['B8','B10','B11']))))\r\n",
    "    x = adm2_loc[adm2_loc['ADM2_EN'] == region]\r\n",
    "    x['geometry'] = x.representative_point()\r\n",
    "    x['lat'] = x['geometry'].y\r\n",
    "    x['lon'] = x['geometry'].x\r\n",
    "    lat = x.iloc[0]['lat']\r\n",
    "    lon = x.iloc[0]['lon']\r\n",
    "    n.center = (lat,lon)\r\n",
    "    task = ee.batch.Export.image.toDrive(**{\r\n",
    "        'image': s2_image,\r\n",
    "        'description': 'Sentinel2_' + str(startDate) + '_' + str(endDate) + '_' + region + '_' + 'py',\r\n",
    "        'folder': folderName,\r\n",
    "        'scale': 10,\r\n",
    "        'region': adm2.filter(ee.Filter.eq('ADM2_EN',region)).geometry()})\r\n",
    "    if expTrigger == True:\r\n",
    "        task.start()\r\n",
    "    else:\r\n",
    "        pass\r\n",
    "\r\n",
    "interact_manual(showMap, region = region_widget, startDate = startDate_widget, endDate = endDate_widget, expTrigger = exp_widget, folderName = folderExp_widget)\r\n",
    "display(n)"
   ],
   "outputs": [],
   "metadata": {}
  }
 ],
 "metadata": {
  "orig_nbformat": 4,
  "language_info": {
   "name": "python",
   "version": "3.8.11",
   "mimetype": "text/x-python",
   "codemirror_mode": {
    "name": "ipython",
    "version": 3
   },
   "pygments_lexer": "ipython3",
   "nbconvert_exporter": "python",
   "file_extension": ".py"
  },
  "kernelspec": {
   "name": "python3",
   "display_name": "Python 3.8.11 64-bit ('gee': conda)"
  },
  "interpreter": {
   "hash": "3a58b3e75800a6524d5250ab9a8703d8b87ad2c78c9cf22d4923ae8bbaece9fb"
  }
 },
 "nbformat": 4,
 "nbformat_minor": 2
}